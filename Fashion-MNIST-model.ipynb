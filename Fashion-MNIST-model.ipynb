{
 "cells": [
  {
   "cell_type": "code",
   "execution_count": 53,
   "metadata": {},
   "outputs": [],
   "source": [
    "import numpy as np\n",
    "import pandas as pd\n",
    "import tensorflow as tf\n",
    "import tensorflow.keras as keras\n",
    "from tensorflow.keras import layers\n",
    "from tensorflow.python.framework.ops import disable_eager_execution"
   ]
  },
  {
   "cell_type": "code",
   "execution_count": 54,
   "metadata": {},
   "outputs": [],
   "source": [
    "df_train = pd.read_csv(r'C:\\Users\\ACER\\Desktop\\VRables\\ML\\Datasets\\fashion-mnist_train.csv')\n",
    "df_test  = pd.read_csv (r'C:\\Users\\ACER\\Desktop\\VRables\\ML\\Datasets\\fashion-mnist_test.csv')"
   ]
  },
  {
   "cell_type": "code",
   "execution_count": 55,
   "metadata": {},
   "outputs": [],
   "source": [
    "X_train = df_train.drop('label', axis = 1)\n",
    "X_test = df_test.drop('label', axis = 1)\n",
    "y_train = df_train['label']\n",
    "y_test = df_test['label']"
   ]
  },
  {
   "cell_type": "code",
   "execution_count": 56,
   "metadata": {},
   "outputs": [
    {
     "name": "stdout",
     "output_type": "stream",
     "text": [
      "pixel1      int64\n",
      "pixel2      int64\n",
      "pixel3      int64\n",
      "pixel4      int64\n",
      "pixel5      int64\n",
      "            ...  \n",
      "pixel780    int64\n",
      "pixel781    int64\n",
      "pixel782    int64\n",
      "pixel783    int64\n",
      "pixel784    int64\n",
      "Length: 784, dtype: object ,  pixel1      int64\n",
      "pixel2      int64\n",
      "pixel3      int64\n",
      "pixel4      int64\n",
      "pixel5      int64\n",
      "            ...  \n",
      "pixel780    int64\n",
      "pixel781    int64\n",
      "pixel782    int64\n",
      "pixel783    int64\n",
      "pixel784    int64\n",
      "Length: 784, dtype: object\n"
     ]
    }
   ],
   "source": [
    "print(X_train.dtypes,\", \",X_test.dtypes)\n"
   ]
  },
  {
   "cell_type": "code",
   "execution_count": 57,
   "metadata": {},
   "outputs": [],
   "source": [
    "X_train.astype(\"float32\")\n",
    "X_test.astype(\"float32\")\n",
    "X_train /= 255\n",
    "X_test /= 255\n"
   ]
  },
  {
   "cell_type": "code",
   "execution_count": 60,
   "metadata": {},
   "outputs": [
    {
     "name": "stdout",
     "output_type": "stream",
     "text": [
      "Model: \"fashion_mnist_model\"\n",
      "_________________________________________________________________\n",
      "Layer (type)                 Output Shape              Param #   \n",
      "=================================================================\n",
      "input_8 (InputLayer)         [(None, 784)]             0         \n",
      "_________________________________________________________________\n",
      "dense_35 (Dense)             (None, 128)               100480    \n",
      "_________________________________________________________________\n",
      "dense_36 (Dense)             (None, 128)               16512     \n",
      "_________________________________________________________________\n",
      "dense_37 (Dense)             (None, 128)               16512     \n",
      "_________________________________________________________________\n",
      "dense_38 (Dense)             (None, 128)               16512     \n",
      "_________________________________________________________________\n",
      "dense_39 (Dense)             (None, 10)                1290      \n",
      "=================================================================\n",
      "Total params: 151,306\n",
      "Trainable params: 151,306\n",
      "Non-trainable params: 0\n",
      "_________________________________________________________________\n"
     ]
    }
   ],
   "source": [
    "# MODEL BUILDING\n",
    "inputs = keras.Input(shape=(784,))\n",
    "dense = layers.Dense(128, activation=\"relu\")\n",
    "x = dense(inputs)\n",
    "x = layers.Dense(128, activation=\"relu\")(x)\n",
    "x = layers.Dense(128, activation=\"relu\")(x)\n",
    "x = layers.Dense(128, activation=\"relu\")(x)\n",
    "outputs = layers.Dense(10)(x)\n",
    "model = keras.Model(inputs=inputs, outputs=outputs, name=\"fashion_mnist_model\")\n",
    "model.summary()"
   ]
  },
  {
   "cell_type": "code",
   "execution_count": 62,
   "metadata": {},
   "outputs": [
    {
     "name": "stdout",
     "output_type": "stream",
     "text": [
      "Train on 48000 samples, validate on 12000 samples\n",
      "Epoch 1/6\n",
      "48000/48000 [==============================] - 6s 123us/sample - loss: 0.3127 - accuracy: 0.8842 - val_loss: 0.4201 - val_accuracy: 0.8627\n",
      "Epoch 2/6\n",
      "48000/48000 [==============================] - 5s 112us/sample - loss: 0.3013 - accuracy: 0.8909 - val_loss: 0.3662 - val_accuracy: 0.8779\n",
      "Epoch 3/6\n",
      "48000/48000 [==============================] - 6s 115us/sample - loss: 0.2959 - accuracy: 0.8913 - val_loss: 0.3524 - val_accuracy: 0.8846\n",
      "Epoch 4/6\n",
      "48000/48000 [==============================] - 6s 119us/sample - loss: 0.2906 - accuracy: 0.8937 - val_loss: 0.3802 - val_accuracy: 0.8782\n",
      "Epoch 5/6\n",
      "48000/48000 [==============================] - 5s 109us/sample - loss: 0.2874 - accuracy: 0.8955 - val_loss: 0.3855 - val_accuracy: 0.8775\n",
      "Epoch 6/6\n",
      "48000/48000 [==============================] - 5s 114us/sample - loss: 0.2847 - accuracy: 0.8961 - val_loss: 0.4070 - val_accuracy: 0.8757\n",
      "Test loss: 0.36971317377090457\n",
      "Test accuracy: 0.8789\n"
     ]
    }
   ],
   "source": [
    "model.compile(\n",
    "    loss=keras.losses.SparseCategoricalCrossentropy(from_logits=True),\n",
    "    optimizer=keras.optimizers.RMSprop(),\n",
    "    metrics=[\"accuracy\"],\n",
    ")\n",
    "\n",
    "history = model.fit(X_train, y_train, batch_size=64, epochs=6, validation_split=0.2)\n",
    "\n",
    "test_scores = model.evaluate(X_test, y_test, verbose=2)\n",
    "print(\"Test loss:\", test_scores[0])\n",
    "print(\"Test accuracy:\", test_scores[1])"
   ]
  },
  {
   "cell_type": "code",
   "execution_count": null,
   "metadata": {},
   "outputs": [],
   "source": []
  }
 ],
 "metadata": {
  "kernelspec": {
   "display_name": "Python 3",
   "language": "python",
   "name": "python3"
  },
  "language_info": {
   "codemirror_mode": {
    "name": "ipython",
    "version": 3
   },
   "file_extension": ".py",
   "mimetype": "text/x-python",
   "name": "python",
   "nbconvert_exporter": "python",
   "pygments_lexer": "ipython3",
   "version": "3.8.8"
  }
 },
 "nbformat": 4,
 "nbformat_minor": 4
}
